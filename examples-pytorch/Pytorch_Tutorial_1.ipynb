{
  "cells": [
    {
      "metadata": {
        "_uuid": "c582d25060bcf2931385a73140e173c7b3993f10"
      },
      "cell_type": "markdown",
      "source": "**Biomechanical Orthopedic Patients Classification Using Pytorch Tensor**"
    },
    {
      "metadata": {
        "_uuid": "3409827c9e25591ade84ccf7def782f823d76da6"
      },
      "cell_type": "markdown",
      "source": "In this notebook I am going to build a Logistic Regression model using Pytorch Tensor instead of using Numpy ndarray.Logistic Regression will be written without any help of ML packages. Pytorch Tensor is a class alomost similar to what we use in numpy ndarray. Pytorch Tensor are advantageous while doing complex and bigger numerical computation , as it uses the GPU to speed up the computation speed as much as 50X."
    },
    {
      "metadata": {
        "_cell_guid": "379ce2bf-22c7-44a1-9421-b2fc5a045eee",
        "_uuid": "453e191ceeb712cda4255e3f93829027f68fbd27",
        "trusted": true
      },
      "cell_type": "code",
      "source": "# This Python 3 environment comes with many helpful analytics libraries installed\n# It is defined by the kaggle/python docker image: https://github.com/kaggle/docker-python\n# For example, here's several helpful packages to load in \n\nimport numpy as np # linear algebra\nimport pandas as pd # data processing, CSV file I/O (e.g. pd.read_csv)\n\n# Input data files are available in the \"../input/\" directory.\n# For example, running this (by clicking run or pressing Shift+Enter) will list the files in the input directory\n\nfrom subprocess import check_output\nprint(check_output([\"ls\", \"../input\"]).decode(\"utf8\"))\n\n# Any results you write to the current directory are saved as output.",
      "execution_count": 16,
      "outputs": [
        {
          "output_type": "stream",
          "text": "column_2C_weka.csv\ncolumn_3C_weka.csv\n\n",
          "name": "stdout"
        }
      ]
    },
    {
      "metadata": {
        "_cell_guid": "eed0158f-010f-4f39-8688-4fa9dd706d95",
        "_uuid": "d1229c44f7abd6478d17433ae6ca89080ba4354b",
        "trusted": true
      },
      "cell_type": "code",
      "source": "train_df = pd.read_csv('../input/column_2C_weka.csv')\ntrain_df.head()",
      "execution_count": 17,
      "outputs": [
        {
          "output_type": "execute_result",
          "execution_count": 17,
          "data": {
            "text/plain": "   pelvic_incidence  pelvic_tilt numeric  lumbar_lordosis_angle  sacral_slope  \\\n0         63.027818            22.552586              39.609117     40.475232   \n1         39.056951            10.060991              25.015378     28.995960   \n2         68.832021            22.218482              50.092194     46.613539   \n3         69.297008            24.652878              44.311238     44.644130   \n4         49.712859             9.652075              28.317406     40.060784   \n\n   pelvic_radius  degree_spondylolisthesis     class  \n0      98.672917                 -0.254400  Abnormal  \n1     114.405425                  4.564259  Abnormal  \n2     105.985135                 -3.530317  Abnormal  \n3     101.868495                 11.211523  Abnormal  \n4     108.168725                  7.918501  Abnormal  ",
            "text/html": "<div>\n<style>\n    .dataframe thead tr:only-child th {\n        text-align: right;\n    }\n\n    .dataframe thead th {\n        text-align: left;\n    }\n\n    .dataframe tbody tr th {\n        vertical-align: top;\n    }\n</style>\n<table border=\"1\" class=\"dataframe\">\n  <thead>\n    <tr style=\"text-align: right;\">\n      <th></th>\n      <th>pelvic_incidence</th>\n      <th>pelvic_tilt numeric</th>\n      <th>lumbar_lordosis_angle</th>\n      <th>sacral_slope</th>\n      <th>pelvic_radius</th>\n      <th>degree_spondylolisthesis</th>\n      <th>class</th>\n    </tr>\n  </thead>\n  <tbody>\n    <tr>\n      <th>0</th>\n      <td>63.027818</td>\n      <td>22.552586</td>\n      <td>39.609117</td>\n      <td>40.475232</td>\n      <td>98.672917</td>\n      <td>-0.254400</td>\n      <td>Abnormal</td>\n    </tr>\n    <tr>\n      <th>1</th>\n      <td>39.056951</td>\n      <td>10.060991</td>\n      <td>25.015378</td>\n      <td>28.995960</td>\n      <td>114.405425</td>\n      <td>4.564259</td>\n      <td>Abnormal</td>\n    </tr>\n    <tr>\n      <th>2</th>\n      <td>68.832021</td>\n      <td>22.218482</td>\n      <td>50.092194</td>\n      <td>46.613539</td>\n      <td>105.985135</td>\n      <td>-3.530317</td>\n      <td>Abnormal</td>\n    </tr>\n    <tr>\n      <th>3</th>\n      <td>69.297008</td>\n      <td>24.652878</td>\n      <td>44.311238</td>\n      <td>44.644130</td>\n      <td>101.868495</td>\n      <td>11.211523</td>\n      <td>Abnormal</td>\n    </tr>\n    <tr>\n      <th>4</th>\n      <td>49.712859</td>\n      <td>9.652075</td>\n      <td>28.317406</td>\n      <td>40.060784</td>\n      <td>108.168725</td>\n      <td>7.918501</td>\n      <td>Abnormal</td>\n    </tr>\n  </tbody>\n</table>\n</div>"
          },
          "metadata": {}
        }
      ]
    },
    {
      "metadata": {
        "_uuid": "315cfde105880ca03d87a4bb7e271ad126beae8a"
      },
      "cell_type": "markdown",
      "source": "We take a look at the frequency of the classes 'Normal' and 'Abnormal' in the data.It is a well balanced data."
    },
    {
      "metadata": {
        "_cell_guid": "0d909b6e-da0a-4e6e-92be-577e5c316f44",
        "_uuid": "96cfd0184cddbadb8b511701743f2b81f4216c13",
        "trusted": true
      },
      "cell_type": "code",
      "source": "print('shape of the data = '+str(train_df.shape))\ntrain_df['class'].value_counts()\n",
      "execution_count": 18,
      "outputs": [
        {
          "output_type": "stream",
          "text": "shape of the data = (310, 7)\n",
          "name": "stdout"
        },
        {
          "output_type": "execute_result",
          "execution_count": 18,
          "data": {
            "text/plain": "Abnormal    210\nNormal      100\nName: class, dtype: int64"
          },
          "metadata": {}
        }
      ]
    },
    {
      "metadata": {
        "_uuid": "7434ea01f76406eb40052d05bbf5829ba5160969"
      },
      "cell_type": "markdown",
      "source": "Here we import the pytorch library and a very important practise to do in torch is setting the datatype of the tensors form the beginning . "
    },
    {
      "metadata": {
        "collapsed": true,
        "_cell_guid": "490a3346-3d52-47e9-8b64-ff590426541c",
        "_uuid": "6bfc436ebd2943122340f3da9f96f6d91b246aa9",
        "trusted": true
      },
      "cell_type": "code",
      "source": "import torch\ndtype = torch.FloatTensor",
      "execution_count": 19,
      "outputs": []
    },
    {
      "metadata": {
        "_uuid": "cd85428ba631414551de02cf88b216daba90ade1"
      },
      "cell_type": "markdown",
      "source": "Here we do some data preprocessing job by mapping the class column to {0,1} and then we transform the dataframe to numpy matrix .Then the numpy matrix is converted in to torch.Tensor object using torch.form_numpy() method."
    },
    {
      "metadata": {
        "collapsed": true,
        "_cell_guid": "a5ae8dd9-6596-4e0d-b9b2-927fe496f115",
        "_uuid": "b603237eac3ad8e34980f5d8267428a2a6e377ac",
        "trusted": true
      },
      "cell_type": "code",
      "source": "dict1 = {'Normal':0 , 'Abnormal':1}\ntrain_df['class'] = train_df['class'].map(dict1)\ntarget = train_df['class'].values\ndel train_df['class']\ntrain_x = train_df.as_matrix()\nx_tor = torch.from_numpy(train_x)",
      "execution_count": 20,
      "outputs": []
    },
    {
      "metadata": {
        "_uuid": "986c712ffa15fdcee8e97a55ee2df4203b1ba3b7"
      },
      "cell_type": "markdown",
      "source": "Print the shape of the torch Tensor object using shape attribute as we do with numpy array"
    },
    {
      "metadata": {
        "_cell_guid": "d4e772dc-1eaa-4a6a-acd0-e4d4087002f9",
        "_uuid": "e9d52340a3a2166721441e2cd8a501dbc2200e2a",
        "trusted": true
      },
      "cell_type": "code",
      "source": "x_tor.shape",
      "execution_count": 21,
      "outputs": [
        {
          "output_type": "execute_result",
          "execution_count": 21,
          "data": {
            "text/plain": "torch.Size([310, 6])"
          },
          "metadata": {}
        }
      ]
    },
    {
      "metadata": {
        "_uuid": "a8a46522ecf0e431fedf2f9f61b87e2e76813eb1"
      },
      "cell_type": "markdown",
      "source": "We also transform the target class variable into torch.Tensor."
    },
    {
      "metadata": {
        "_cell_guid": "cd3db6cd-10dc-452a-86ca-48b8575b3c44",
        "_uuid": "141ebf070cd7d98ff2e8f6047c8289c8952e4107",
        "trusted": true
      },
      "cell_type": "code",
      "source": "y_tor = torch.from_numpy(target).type(dtype)\ny_tor.shape",
      "execution_count": 22,
      "outputs": [
        {
          "output_type": "execute_result",
          "execution_count": 22,
          "data": {
            "text/plain": "torch.Size([310])"
          },
          "metadata": {}
        }
      ]
    },
    {
      "metadata": {
        "_uuid": "f4645f3c0c99cf5ce2aa7eaf062147f83e7c84b5"
      },
      "cell_type": "markdown",
      "source": "Now we start the first part of implementing Logistic Regression algorithm that is initializing the parameters and hyperparameters.\nWe initialize the parameters W using torch.zeros() and then type casting using type function. b is set to zero. Learning rate or alpha is set very small to prevent the log loss from going to nan . No of iterations is set to 5000."
    },
    {
      "metadata": {
        "collapsed": true,
        "_cell_guid": "c98318fc-ca60-4b80-b6fc-be0907775280",
        "_uuid": "a4ee5cac9a53ebde5e0ec5dacdfbe982e7f8bdab",
        "trusted": true
      },
      "cell_type": "code",
      "source": "n_feature = x_tor.shape[1]\nn_output = 1\nW = torch.zeros(n_output,n_feature).type(dtype)\nb = 0\nalpha = .00000002\nn_iter = 5000",
      "execution_count": 23,
      "outputs": []
    },
    {
      "metadata": {
        "_uuid": "a9d161a8c8d0ebcb4916c804f6caa98956222505"
      },
      "cell_type": "markdown",
      "source": "We implment the algorithm . First we write the forward propagation to get y_pred ,then computing the cost .Then find the gradient of the log loss function and then updating W,b according to the Batch Gradient Descent algorithm. We store the loss values in cost list .\n"
    },
    {
      "metadata": {
        "_cell_guid": "da98af71-8e05-4c93-9cd9-290bb98ab17f",
        "_uuid": "afd223e053832c86787def781311787c1d1928b5",
        "trusted": true,
        "collapsed": true
      },
      "cell_type": "code",
      "source": "cost = []\niter = []\nx_train = x_tor.t().type(dtype)\nm = x_tor.shape[0]\nfor t in range(n_iter):\n    ## forward propagatiop\n    z = W.mm(x_train)+b\n    y_pred = torch.sigmoid(z).type(dtype)\n    \n    ## computing log loss \n    loss = -(torch.sum(torch.log(y_pred)*y_tor)+torch.sum(torch.log(1-y_pred)*(1-y_tor)))/m\n    cost.append(loss)\n    iter.append(t)\n    \n    ## computing the gradient\n    dW = x_train.mm((y_pred-y_tor).t())\n    db = torch.sum((y_pred-y_tor).t())\n    \n    ##updating W,b\n    W = W - alpha*dW.t()\n    b = b - alpha*db",
      "execution_count": 24,
      "outputs": []
    },
    {
      "metadata": {
        "_uuid": "c947ccb469c34a35b3e761a0434386acb609134e"
      },
      "cell_type": "markdown",
      "source": "Uisng matplotlib we plot the cost in each iteration and we see that the loss function is decreasing in each iteration . So our algorithm works well ."
    },
    {
      "metadata": {
        "_cell_guid": "9a8b528f-e51e-4376-ae63-f3871f885579",
        "_uuid": "0ab18a0d1c5a6d8f77f2c7ef1cca2ee7aaf4033e",
        "trusted": true
      },
      "cell_type": "code",
      "source": "import matplotlib.pyplot as plt\nplt.scatter(iter,cost)\nplt.show()",
      "execution_count": 25,
      "outputs": [
        {
          "output_type": "display_data",
          "data": {
            "text/plain": "<matplotlib.figure.Figure at 0x7fa79e476cc0>",
            "image/png": "[encoded data removed]"
          },
          "metadata": {}
        }
      ]
    },
    {
      "metadata": {
        "_cell_guid": "f915208e-7aee-4257-8290-5d30103c67cc",
        "_uuid": "efc70b62c6074c841dab79dd7a66053e74ace57b",
        "trusted": true
      },
      "cell_type": "code",
      "source": "print('Parameters after training = ',W,b)",
      "execution_count": 26,
      "outputs": [
        {
          "output_type": "stream",
          "text": "Parameters after training =  \n1.00000e-02 *\n  1.3023  1.7896  0.3414 -0.4872 -1.0355  6.2318\n[torch.FloatTensor of size 1x6]\n 0.0002177990012231472\n",
          "name": "stdout"
        }
      ]
    },
    {
      "metadata": {
        "_cell_guid": "2015ffa1-ddbd-4fc0-94d6-358130f90930",
        "_uuid": "520eccae08d0f9f84cb566b683a0238bab073594",
        "trusted": true
      },
      "cell_type": "code",
      "source": "y_pred[y_pred>=.5] = 1\ny_pred[y_pred<.5] = 0\nprint(\"Accuracy after training : \"+str(torch.sum(y_pred==y_tor)/m))",
      "execution_count": 27,
      "outputs": [
        {
          "output_type": "stream",
          "text": "Accuracy after training : 0.7967741935483871\n",
          "name": "stdout"
        }
      ]
    },
    {
      "metadata": {
        "collapsed": true,
        "_cell_guid": "30f6702d-c3ab-4e63-b6a4-9ec30f117c28",
        "_uuid": "ad8073b0f8ded61803e1a8db8aa1d350a7aafcc5",
        "trusted": true
      },
      "cell_type": "code",
      "source": "",
      "execution_count": null,
      "outputs": []
    }
  ],
  "metadata": {
    "kernelspec": {
      "display_name": "Python 3",
      "language": "python",
      "name": "python3"
    },
    "language_info": {
      "name": "python",
      "version": "3.6.3",
      "mimetype": "text/x-python",
      "codemirror_mode": {
        "name": "ipython",
        "version": 3
      },
      "pygments_lexer": "ipython3",
      "nbconvert_exporter": "python",
      "file_extension": ".py"
    }
  },
  "nbformat": 4,
  "nbformat_minor": 1
}
